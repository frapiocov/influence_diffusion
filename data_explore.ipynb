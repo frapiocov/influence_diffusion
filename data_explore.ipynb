{
 "cells": [
  {
   "cell_type": "markdown",
   "metadata": {},
   "source": [
    "**Analisi del dataset**\n",
    "La rete usata è la GitHub Dev Social Network, una grande rete sociale di sviluppatori presenti su GitHub, creata con le API pubbliche nel giugno 2019. I nodi sono gli sviluppatori che hanno salvato (star) almeno 10 repository e gli edge rappresenta la relazione reciproca di following tra di loro. Le caratteristiche dei vertici sono state estratte in base alla posizione geografica, ai repository salvati, al datore di lavoro e all'indirizzo e-mail.\n",
    "\n",
    "Caratteristiche del grafo:\n",
    "\n",
    "- Directed: No.\n",
    "- Node features: Si.\n",
    "- Edge features: No.\n",
    "- Node labels: Si. Binary-labeled.\n",
    "- Temporal: No.\n",
    "- Nodes: 37,700\n",
    "- Edges: 289,003\n",
    "- Density: 0.001 \n",
    "- Transitvity: 0.013"
   ]
  },
  {
   "cell_type": "code",
   "execution_count": 1,
   "metadata": {},
   "outputs": [],
   "source": [
    "import numpy as np\n",
    "import pandas as pd\n",
    "\n",
    "import os\n",
    "\n",
    "import networkx as nx\n",
    "\n",
    "import random\n",
    "import pickle\n",
    "\n"
   ]
  },
  {
   "cell_type": "markdown",
   "metadata": {},
   "source": [
    "Qualche info sulla rete per individuare gli sviluppatori più popolari e collaborativi attraverso le misure di degree centrality e betweeneess centrality."
   ]
  },
  {
   "cell_type": "code",
   "execution_count": 6,
   "metadata": {},
   "outputs": [
    {
     "name": "stdout",
     "output_type": "stream",
     "text": [
      "Graph with 2403 nodes and 2913 edges\n",
      "TOP 10 degree centrality\n",
      "24499 0.06\n",
      "36652 0.06\n",
      "18163 0.06\n",
      "38 0.05\n",
      "36628 0.04\n",
      "1543 0.03\n",
      "2701 0.03\n",
      "27 0.03\n",
      "10 0.03\n",
      "2702 0.02\n",
      "\n",
      "TOP 10 betweenneess centrality\n",
      "36652 0.2067\n",
      "36628 0.1451\n",
      "24499 0.1310\n",
      "38 0.1258\n",
      "18163 0.1181\n",
      "31890 0.0931\n",
      "35523 0.0599\n",
      "1543 0.0589\n",
      "42 0.0569\n",
      "2701 0.0499\n"
     ]
    }
   ],
   "source": [
    "net_df = pd.read_csv(\"data/github_social_network.csv\") # gli edge della rete\n",
    "\n",
    "hn_info = nx.from_pandas_edgelist(net_df, source = \"id_1\", target = \"id_2\")\n",
    "print(hn_info)\n",
    "\n",
    "# degree centrality \n",
    "DC = nx.degree_centrality(hn_info)\n",
    "print(\"TOP 10 degree centrality\")\n",
    "counter = 0\n",
    "for w in sorted(DC, key = DC.get , reverse = True):\n",
    "    counter = counter + 1\n",
    "    if counter == 11:\n",
    "        break\n",
    "    print(w,'{:0.2f}'.format(DC[w]))\n",
    "\n",
    "print(\"\\nTOP 10 betweenneess centrality\")\n",
    "# betweeness centrality\n",
    "BC = nx.betweenness_centrality(hn_info)\n",
    "counter = 0\n",
    "for w in sorted(BC, key =BC.get,  reverse = True):\n",
    "    counter = counter + 1\n",
    "    if counter == 11:\n",
    "        break\n",
    "    print(w,\"{:0.4f}\".format(BC[w]))"
   ]
  }
 ],
 "metadata": {
  "kernelspec": {
   "display_name": ".venv",
   "language": "python",
   "name": "python3"
  },
  "language_info": {
   "codemirror_mode": {
    "name": "ipython",
    "version": 3
   },
   "file_extension": ".py",
   "mimetype": "text/x-python",
   "name": "python",
   "nbconvert_exporter": "python",
   "pygments_lexer": "ipython3",
   "version": "3.8.2"
  }
 },
 "nbformat": 4,
 "nbformat_minor": 2
}
