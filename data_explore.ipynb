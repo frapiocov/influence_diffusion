{
 "cells": [
  {
   "cell_type": "markdown",
   "metadata": {},
   "source": [
    "**Analisi del dataset**\n",
    "La rete usata è la GitHub Dev Social Network, una grande rete sociale di sviluppatori presenti su GitHub, creata con le API pubbliche nel giugno 2019. I nodi sono gli sviluppatori che hanno salvato (star) almeno 10 repository e gli edge rappresenta la relazione reciproca di following tra di loro. Le caratteristiche dei vertici sono state estratte in base alla posizione geografica, ai repository salvati, al datore di lavoro e all'indirizzo e-mail.\n",
    "\n",
    "Caratteristiche del grafo:\n",
    "\n",
    "- Directed: No.\n",
    "- Node features: Si.\n",
    "- Edge features: No.\n",
    "- Node labels: Si. Binary-labeled.\n",
    "- Temporal: No.\n",
    "- Nodes: 37,700\n",
    "- Edges: 289,003\n",
    "- Density: 0.001 \n",
    "- Transitvity: 0.013"
   ]
  },
  {
   "cell_type": "code",
   "execution_count": 1,
   "metadata": {},
   "outputs": [],
   "source": [
    "import numpy as np\n",
    "import pandas as pd\n",
    "from itertools import combinations\n",
    "from collections import Counter\n",
    "\n",
    "import os\n",
    "\n",
    "from IPython.display import Image\n",
    "import plotly.graph_objects as go\n",
    "from plotly.subplots import make_subplots\n",
    "\n",
    "from PIL import Image\n",
    "\n",
    "import networkx as nx\n",
    "\n",
    "from sklearn.preprocessing import MinMaxScaler\n",
    "import random\n",
    "import pickle\n",
    "\n",
    "TEMPLATE = 'simple_white'\n",
    "\n",
    "node_df = pd.read_csv(\"data/musae_git_target.csv\") # id e username\n",
    "net_df = pd.read_csv(\"data/musae_git_edges.csv\") # gli edge della rete"
   ]
  },
  {
   "cell_type": "markdown",
   "metadata": {},
   "source": [
    "Qualche info sulla rete per individuare gli sviluppatori più popolari e collaborativi attraverso le misure di degree centrality e betweeneess centrality."
   ]
  },
  {
   "cell_type": "code",
   "execution_count": 3,
   "metadata": {},
   "outputs": [
    {
     "ename": "KeyboardInterrupt",
     "evalue": "",
     "output_type": "error",
     "traceback": [
      "\u001b[1;31m---------------------------------------------------------------------------\u001b[0m",
      "\u001b[1;31mKeyboardInterrupt\u001b[0m                         Traceback (most recent call last)",
      "Cell \u001b[1;32mIn[3], line 1\u001b[0m\n\u001b[1;32m----> 1\u001b[0m hn_info \u001b[38;5;241m=\u001b[39m \u001b[43mnx\u001b[49m\u001b[38;5;241;43m.\u001b[39;49m\u001b[43mfrom_pandas_edgelist\u001b[49m\u001b[43m(\u001b[49m\u001b[43mnet_df\u001b[49m\u001b[43m,\u001b[49m\u001b[43m \u001b[49m\u001b[43msource\u001b[49m\u001b[43m \u001b[49m\u001b[38;5;241;43m=\u001b[39;49m\u001b[43m \u001b[49m\u001b[38;5;124;43m\"\u001b[39;49m\u001b[38;5;124;43mid_1\u001b[39;49m\u001b[38;5;124;43m\"\u001b[39;49m\u001b[43m,\u001b[49m\u001b[43m \u001b[49m\u001b[43mtarget\u001b[49m\u001b[43m \u001b[49m\u001b[38;5;241;43m=\u001b[39;49m\u001b[43m \u001b[49m\u001b[38;5;124;43m\"\u001b[39;49m\u001b[38;5;124;43mid_2\u001b[39;49m\u001b[38;5;124;43m\"\u001b[39;49m\u001b[43m)\u001b[49m\n\u001b[0;32m      3\u001b[0m \u001b[38;5;66;03m# degree centrality \u001b[39;00m\n\u001b[0;32m      4\u001b[0m DC \u001b[38;5;241m=\u001b[39m nx\u001b[38;5;241m.\u001b[39mdegree_centrality(hn_info)\n",
      "File \u001b[1;32mc:\\Users\\franc\\GitHub\\network_majority_dynamics\\.venv\\lib\\site-packages\\networkx\\convert_matrix.py:415\u001b[0m, in \u001b[0;36mfrom_pandas_edgelist\u001b[1;34m(df, source, target, edge_attr, create_using, edge_key)\u001b[0m\n\u001b[0;32m    412\u001b[0m g \u001b[38;5;241m=\u001b[39m nx\u001b[38;5;241m.\u001b[39mempty_graph(\u001b[38;5;241m0\u001b[39m, create_using)\n\u001b[0;32m    414\u001b[0m \u001b[38;5;28;01mif\u001b[39;00m edge_attr \u001b[38;5;129;01mis\u001b[39;00m \u001b[38;5;28;01mNone\u001b[39;00m:\n\u001b[1;32m--> 415\u001b[0m     \u001b[43mg\u001b[49m\u001b[38;5;241;43m.\u001b[39;49m\u001b[43madd_edges_from\u001b[49m\u001b[43m(\u001b[49m\u001b[38;5;28;43mzip\u001b[39;49m\u001b[43m(\u001b[49m\u001b[43mdf\u001b[49m\u001b[43m[\u001b[49m\u001b[43msource\u001b[49m\u001b[43m]\u001b[49m\u001b[43m,\u001b[49m\u001b[43m \u001b[49m\u001b[43mdf\u001b[49m\u001b[43m[\u001b[49m\u001b[43mtarget\u001b[49m\u001b[43m]\u001b[49m\u001b[43m)\u001b[49m\u001b[43m)\u001b[49m\n\u001b[0;32m    416\u001b[0m     \u001b[38;5;28;01mreturn\u001b[39;00m g\n\u001b[0;32m    418\u001b[0m reserved_columns \u001b[38;5;241m=\u001b[39m [source, target]\n",
      "File \u001b[1;32mc:\\Users\\franc\\GitHub\\network_majority_dynamics\\.venv\\lib\\site-packages\\networkx\\classes\\graph.py:1035\u001b[0m, in \u001b[0;36mGraph.add_edges_from\u001b[1;34m(self, ebunch_to_add, **attr)\u001b[0m\n\u001b[0;32m   1033\u001b[0m     \u001b[38;5;28mself\u001b[39m\u001b[38;5;241m.\u001b[39m_adj[v] \u001b[38;5;241m=\u001b[39m \u001b[38;5;28mself\u001b[39m\u001b[38;5;241m.\u001b[39madjlist_inner_dict_factory()\n\u001b[0;32m   1034\u001b[0m     \u001b[38;5;28mself\u001b[39m\u001b[38;5;241m.\u001b[39m_node[v] \u001b[38;5;241m=\u001b[39m \u001b[38;5;28mself\u001b[39m\u001b[38;5;241m.\u001b[39mnode_attr_dict_factory()\n\u001b[1;32m-> 1035\u001b[0m datadict \u001b[38;5;241m=\u001b[39m \u001b[38;5;28;43mself\u001b[39;49m\u001b[38;5;241;43m.\u001b[39;49m\u001b[43m_adj\u001b[49m\u001b[43m[\u001b[49m\u001b[43mu\u001b[49m\u001b[43m]\u001b[49m\u001b[38;5;241m.\u001b[39mget(v, \u001b[38;5;28mself\u001b[39m\u001b[38;5;241m.\u001b[39medge_attr_dict_factory())\n\u001b[0;32m   1036\u001b[0m datadict\u001b[38;5;241m.\u001b[39mupdate(attr)\n\u001b[0;32m   1037\u001b[0m datadict\u001b[38;5;241m.\u001b[39mupdate(dd)\n",
      "\u001b[1;31mKeyboardInterrupt\u001b[0m: "
     ]
    }
   ],
   "source": [
    "hn_info = nx.from_pandas_edgelist(net_df, source = \"id_1\", target = \"id_2\")\n",
    "\n",
    "# degree centrality \n",
    "DC = nx.degree_centrality(hn_info)\n",
    "print(\"TOP 10 degree centrality\")\n",
    "counter = 0\n",
    "for w in sorted(DC, key = DC.get , reverse = True):\n",
    "    counter = counter + 1\n",
    "    if counter == 11:\n",
    "        break\n",
    "    print(w,'{:0.2f}'.format(DC[w]))\n",
    "\n",
    "print(\"\\nTOP 10 betweenneess centrality\")\n",
    "# betweeness centrality\n",
    "BC = nx.betweenness_centrality(hn_info)\n",
    "counter = 0\n",
    "for w in sorted(BC, key =BC.get,  reverse = True):\n",
    "    counter = counter + 1\n",
    "    if counter == 11:\n",
    "        break\n",
    "    print(w,\"{:0.4f}\".format(BC[w]))"
   ]
  }
 ],
 "metadata": {
  "kernelspec": {
   "display_name": ".venv",
   "language": "python",
   "name": "python3"
  },
  "language_info": {
   "codemirror_mode": {
    "name": "ipython",
    "version": 3
   },
   "file_extension": ".py",
   "mimetype": "text/x-python",
   "name": "python",
   "nbconvert_exporter": "python",
   "pygments_lexer": "ipython3",
   "version": "3.8.2"
  }
 },
 "nbformat": 4,
 "nbformat_minor": 2
}
